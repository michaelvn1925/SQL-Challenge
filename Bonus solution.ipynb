{
 "cells": [
  {
   "cell_type": "code",
   "execution_count": 1,
   "metadata": {},
   "outputs": [],
   "source": [
    "# from sqlalchemy import create_engine\n",
    "\n",
    "# connection = engine.connect()\n",
    "\n",
    "# Dependencies\n",
    "\n",
    "from sqlalchemy import create_engine\n",
    "import pandas as pd\n",
    "import matplotlib.pyplot as plt\n",
    "import numpy as np\n",
    "from config import sql_private_stuff\n"
   ]
  },
  {
   "cell_type": "code",
   "execution_count": null,
   "metadata": {},
   "outputs": [],
   "source": [
    "# Create Engine\n",
    "\n",
    "engine = create_engine(sql_private_stuff)\n",
    "conn = engine.connect()"
   ]
  },
  {
   "cell_type": "code",
   "execution_count": null,
   "metadata": {},
   "outputs": [],
   "source": [
    "salaries = pd.read_sql(\"SELECT * FROM salaries\", conn)\n",
    "# salaries.head(10)\n",
    "\n",
    "# Renaming Columns for a cleaner look\n",
    "salaries_clean = salaries.rename(columns={\"emp_no\": \"Employee Number\", \"salary\": \"Salary\", \"from_date\" : \"From Date\", \"to_date\" : \"To Date\"})\n",
    "salaries_clean.head(10)"
   ]
  },
  {
   "cell_type": "code",
   "execution_count": null,
   "metadata": {},
   "outputs": [],
   "source": [
    "# Renaming Columns for a cleaner look\n",
    "employees_clean = employees.rename(columns={\"emp_no\": \"Employee Number\", \"birthdate\": \"Birth Date\", \"first_name\" : \"First Name\", \"last_name\" : \"Last Name\", \"gender\" : \"Gender\", \"hire_date\" : \"Hire Date\"})\n",
    "employees_clean.head(10)"
   ]
  },
  {
   "cell_type": "code",
   "execution_count": null,
   "metadata": {},
   "outputs": [],
   "source": [
    "# Departments Dataframe\n",
    "\n",
    "departments = pd.read_sql(\"SELECT * FROM departments\", conn)\n",
    "departments.head(10)\n",
    "\n",
    "departments_clean = departments.rename(columns={\"dept_name\": \"Department Name\", \"dept_no\": \"Department Number\"})\n",
    "departments_clean.head(10)"
   ]
  },
  {
   "cell_type": "code",
   "execution_count": null,
   "metadata": {},
   "outputs": [],
   "source": [
    "# Titles Dataframe\n",
    "\n",
    "titles = pd.read_sql(\"SELECT * FROM titles\", conn)\n",
    "# titles.head(10)\n",
    "\n",
    "titles_clean = titles.rename(columns={\"emp_no\": \"Employee Number\", \"title\": \"Title\", \"from_date\" : \"From Date\", \"to_date\" : \"To Date\"})\n",
    "titles_clean.head(10)"
   ]
  },
  {
   "cell_type": "code",
   "execution_count": null,
   "metadata": {},
   "outputs": [],
   "source": [
    "# Merge DF -- on Employee Number, common -- Salaries and Titles [TEST 1]\n",
    "\n",
    "salaries_titles = pd.merge(salaries_clean, titles_clean, on=\"Employee Number\", how=\"inner\")\n",
    "salaries_titles.head(10)"
   ]
  },
  {
   "cell_type": "code",
   "execution_count": null,
   "metadata": {},
   "outputs": [],
   "source": [
    "# Merge DF -- Employees and Salaries [TEST 2]\n",
    "\n",
    "employees_salaries = pd.merge(employees_clean, salaries_clean, on=\"Employee Number\", how=\"inner\")\n",
    "employees_salaries.head(10)"
   ]
  },
  {
   "cell_type": "code",
   "execution_count": null,
   "metadata": {},
   "outputs": [],
   "source": [
    "# Salaries and Titles Groupby [TEST 1]\n",
    "# Creating a groupby because what we want is said title and a mean of the salary by title\n",
    "\n",
    "salaries_titles_grouped_df = salaries_titles.groupby(\"Title\").mean()\n",
    "salaries_titles_grouped_df"
   ]
  },
  {
   "cell_type": "code",
   "execution_count": null,
   "metadata": {},
   "outputs": [],
   "source": [
    " Salaries and Titles Groupby [TEST 1]\n",
    "# Dropping the Employee Number as it's no longer needed, makes it easier to visualize the plots\n",
    "\n",
    "title_salary_df = salaries_titles_grouped_df.drop(columns = \"Employee Number\")\n",
    "title_salary_df = title_salary_df.reset_index()\n",
    "title_salary_df"
   ]
  },
  {
   "cell_type": "code",
   "execution_count": null,
   "metadata": {},
   "outputs": [],
   "source": [
    "# Salary by Department Employee [TEST 3]\n",
    "\n",
    "salaries_dept_employee = pd.merge(salaries_clean, dept_employee_clean, on=\"Employee Number\", how=\"inner\")\n",
    "salaries_dept_employee.head(10)"
   ]
  },
  {
   "cell_type": "code",
   "execution_count": null,
   "metadata": {},
   "outputs": [],
   "source": [
    "# Salary by Employees [TEST 4]\n",
    "\n",
    "salaries_employees = pd.merge(salaries_clean, employees_clean, on=\"Employee Number\", how=\"inner\")\n",
    "salaries_employees.head(10)"
   ]
  },
  {
   "cell_type": "code",
   "execution_count": null,
   "metadata": {},
   "outputs": [],
   "source": [
    "# Merge Departments and Department Employee\n",
    "\n",
    "dept_dept_emp = pd.merge(departments_clean, dept_employee_clean, on=\"Department Number\", how=\"inner\")\n",
    "dept_dept_emp.head(10)"
   ]
  },
  {
   "cell_type": "code",
   "execution_count": null,
   "metadata": {},
   "outputs": [],
   "source": [
    "second_merge_on_emp_no.columns"
   ]
  },
  {
   "cell_type": "code",
   "execution_count": null,
   "metadata": {},
   "outputs": [],
   "source": [
    "# Drop and Clean\n",
    "\n",
    "clean_second_merge = second_merge_on_emp_no.drop(columns = [\"From Date_x\", \"To Date_x\", \"From Date_y\", \"To Date_y\", \"Department Number\", \"Hire Date\", \"Birth Date\"])\n",
    "clean_second_merge.head()"
   ]
  },
  {
   "cell_type": "code",
   "execution_count": null,
   "metadata": {},
   "outputs": [],
   "source": [
    "# Salary mean() using clean_second_merge\n",
    "\n",
    "clean_second_merge_groupby = clean_second_merge.groupby(\"Department Name\").mean()\n",
    "clean_second_merge_groupby"
   ]
  },
  {
   "cell_type": "code",
   "execution_count": null,
   "metadata": {},
   "outputs": [],
   "source": [
    "# Drop and Clean\n",
    "\n",
    "dept_name_salaries = clean_second_merge_groupby.drop(columns = \"Employee Number\")\n",
    "dept_name_salaries"
   ]
  },
  {
   "cell_type": "code",
   "execution_count": null,
   "metadata": {},
   "outputs": [],
   "source": [
    "\n",
    "# SECOND IDEA -- Doing hist based on a mean of salaries and Department Name which should support the entire idea\n",
    "# of what defines a deparmtent \n",
    "\n",
    "# Plotting Salary and Department Name [HIST 1]\n",
    "\n",
    "plt.hist(clean_second_merge[\"Salary\"], color='purple', alpha=1);\n",
    "\n",
    "plt.xlabel(\"\\nSALARY RANGE ($)\", weight=\"bold\");\n",
    "plt.ylabel(\"NUMBER OF EMPLOYEES\\n\", weight=\"bold\");\n",
    "plt.title(\"SALARY RANGE PER EMPLOYEES\\n\", weight=\"bold\", size=15)\n",
    "\n",
    "plt.grid()\n",
    "plt.tight_layout()\n",
    "\n",
    "plt.savefig(\"Hist_By_Dept_Salaries_Range.png\")"
   ]
  },
  {
   "cell_type": "code",
   "execution_count": null,
   "metadata": {},
   "outputs": [],
   "source": [
    "# -- -- -- -- -- -- -- -- -- -- -- -- [EPILOGUE] -- -- -- -- -- -- -- -- -- -- -- -- --\n",
    "\n",
    "# Evidence in hand, you march into your boss's office and present the visualization. \n",
    "# With a sly grin, your boss thanks you for your work. On your way out of the office, \n",
    "# you hear the words, \"Search your ID number.\" You look down at your badge to see \n",
    "# that your employee ID number is 499942.\n",
    "\n",
    "# UPDATED: Was told there is an easter egg, with April Foolsday, need the \n",
    "# table that includes a first and last name, from PostgreSQL, it was under employees\n",
    "\n",
    "\n",
    "\n",
    "# salaries_titles.loc[salaries_titles[\"Employee Number\"] == 499942]\n",
    "\n",
    "# titles_clean.loc[titles_clean[\"Employee Number\"] == 499942]\n",
    "\n",
    "# salaries_clean.loc[salaries_clean[\"Employee Number\"] == 499942]\n",
    "\n",
    "employees_clean.loc[employees_clean[\"Employee Number\"] == 499942]"
   ]
  },
  {
   "cell_type": "code",
   "execution_count": null,
   "metadata": {},
   "outputs": [],
   "source": [
    "salaries_titles.loc[salaries_titles[\"Employee Number\"] == 499942]"
   ]
  },
  {
   "cell_type": "code",
   "execution_count": null,
   "metadata": {},
   "outputs": [],
   "source": [
    "\n",
    "titles_clean.loc[titles_clean[\"Employee Number\"] == 499942]"
   ]
  },
  {
   "cell_type": "code",
   "execution_count": null,
   "metadata": {},
   "outputs": [],
   "source": [
    "salaries_clean.loc[salaries_clean[\"Employee Number\"] == 499942]"
   ]
  },
  {
   "cell_type": "code",
   "execution_count": null,
   "metadata": {},
   "outputs": [],
   "source": [
    "clean_second_merge.loc[clean_second_merge[\"Employee Number\"] == 499942]"
   ]
  }
 ],
 "metadata": {
  "kernelspec": {
   "display_name": "Python 3",
   "language": "python",
   "name": "python3"
  },
  "language_info": {
   "codemirror_mode": {
    "name": "ipython",
    "version": 3
   },
   "file_extension": ".py",
   "mimetype": "text/x-python",
   "name": "python",
   "nbconvert_exporter": "python",
   "pygments_lexer": "ipython3",
   "version": "3.7.6"
  }
 },
 "nbformat": 4,
 "nbformat_minor": 4
}
